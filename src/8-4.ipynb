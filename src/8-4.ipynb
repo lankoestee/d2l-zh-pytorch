{
 "cells": [
  {
   "cell_type": "markdown",
   "metadata": {},
   "source": [
    "## 8.4 循环神经网络"
   ]
  },
  {
   "cell_type": "markdown",
   "metadata": {},
   "source": [
    "与其将$P(x_t|x_1,\\dots,x_{t-1})$模型化，不如使用隐变量模型：\n",
    "\n",
    "$$\n",
    "P(x_t|x_1,\\dots,x_{t-1})\\approx P(x_t|h_{t-1})\n",
    "$$\n",
    "\n",
    "其中$h_{t-1}$是隐状态，也被称为隐藏变量，通常而言，我们可以基于当前输入$x_t$和先前状态$h_{t-1}$来计算时间步$t$处的任何时间的隐状态：\n",
    "\n",
    "$$\n",
    "h_t=f(x_t,h_{t-1})\n",
    "$$\n",
    "\n",
    "**循环神经网络**（recurrent neural networks，RNNs） 是具有隐状态的神经网络。 "
   ]
  },
  {
   "cell_type": "markdown",
   "metadata": {},
   "source": [
    "### 8.4.1 无隐状态的神经网络"
   ]
  },
  {
   "cell_type": "markdown",
   "metadata": {},
   "source": [
    "也就是以多层感知机为例，在卷积上面已经讲过了"
   ]
  },
  {
   "cell_type": "markdown",
   "metadata": {},
   "source": [
    "### 8.4.2 有隐状态的循环神经网络"
   ]
  },
  {
   "cell_type": "markdown",
   "metadata": {},
   "source": [
    "隐状态的计算如下：\n",
    "\n",
    "$$\n",
    "\\bm{H}_t=\\phi(\\bm{X}_t\\bm{W}_{xh}+\\bm{H}_{t-1}\\bm{W}_{hh}+\\bm{b}_h)\n",
    "$$\n",
    "\n",
    "其中：\n",
    "\n",
    "- $\\bm{X}_t\\in\\mathbb{R}^{n\\times d}$：时间步$t$的小批量输入\n",
    "- $\\bm{W}_{xh}$：描述输入如何作用到隐变量上\n",
    "- $\\bm{H}_{t-1}$：前一个时间步的隐变量\n",
    "- $\\bm{W}_{hh}\\in\\mathbb{R}^{h\\times h}$：描述前一个隐变量如何作用到新的隐变量上\n",
    "\n",
    "对于输出层而言，其类似多层感知机中的计算：\n",
    "\n",
    "$$\n",
    "\\bm{O}_t=\\bm{H}_t\\bm{W}_{hq}+\\bm{b}_q\n",
    "$$\n",
    "\n",
    "值得一提的是，即使在不同的时间步，循环神经网络也总是使用这些模型参数。 因此，循环神经网络的参数开销不会随着时间步的增加而增加。\n",
    "\n",
    "下图展示了循环神经网络的一般形式。\n",
    "\n",
    "![](../images/8-4-1.svg)\n",
    "\n",
    "下面通过简单的计算搞清楚其中的矩阵大小关系。"
   ]
  },
  {
   "cell_type": "code",
   "execution_count": 1,
   "metadata": {},
   "outputs": [
    {
     "data": {
      "text/plain": [
       "tensor([[-1.9598, -0.7419, -2.9325, -1.7311],\n",
       "        [-2.4250,  2.4095,  1.2322, -0.5909],\n",
       "        [ 1.4104, -3.2657, -2.7166,  3.0337]])"
      ]
     },
     "execution_count": 1,
     "metadata": {},
     "output_type": "execute_result"
    }
   ],
   "source": [
    "import torch\n",
    "from d2l import torch as d2l\n",
    "\n",
    "X, W_xh = torch.normal(0, 1, (3, 1)), torch.normal(0, 1, (1, 4))\n",
    "H, W_hh = torch.normal(0, 1, (3, 4)), torch.normal(0, 1, (4, 4))\n",
    "torch.matmul(X, W_xh) + torch.matmul(H, W_hh)"
   ]
  },
  {
   "cell_type": "markdown",
   "metadata": {},
   "source": [
    "此外还有通过拼接的方法进行计算，这样只用计算一次矩阵乘法。"
   ]
  },
  {
   "cell_type": "code",
   "execution_count": 2,
   "metadata": {},
   "outputs": [
    {
     "data": {
      "text/plain": [
       "tensor([[-1.9598, -0.7419, -2.9325, -1.7311],\n",
       "        [-2.4250,  2.4095,  1.2322, -0.5909],\n",
       "        [ 1.4104, -3.2657, -2.7166,  3.0337]])"
      ]
     },
     "execution_count": 2,
     "metadata": {},
     "output_type": "execute_result"
    }
   ],
   "source": [
    "torch.matmul(torch.cat((X, H), 1), torch.cat((W_xh, W_hh), 0))"
   ]
  },
  {
   "cell_type": "markdown",
   "metadata": {},
   "source": [
    "### 8.4.3 基于循环神经网络的字符级语言模型"
   ]
  },
  {
   "cell_type": "markdown",
   "metadata": {},
   "source": [
    "设小批量大小为1，则基于循环神经网络的字符级模型如下。\n",
    "\n",
    "![](../images/8-4-2.svg)\n",
    "\n",
    "我们对每个输出层进行softmax计算即可得到输出。"
   ]
  },
  {
   "cell_type": "markdown",
   "metadata": {},
   "source": [
    "### 8.4.4 困惑度(Perplexity)"
   ]
  },
  {
   "cell_type": "markdown",
   "metadata": {},
   "source": [
    "就是一个损失函数，同故宫一个序列中所有的n个词元的交叉熵损失的平均值来衡量，并做一个指数：\n",
    "\n",
    "$$\n",
    "\\exp\\left(-\\frac{1}{n}\\sum_{t=1}^n\\log P(x_t|x_{t-1},\\dots,x_1)\\right)\n",
    "$$"
   ]
  },
  {
   "cell_type": "markdown",
   "metadata": {},
   "source": [
    "### 8.4.5 小结"
   ]
  },
  {
   "cell_type": "markdown",
   "metadata": {},
   "source": [
    "- 对隐状态使用循环计算的神经网络称为循环神经网络（RNN）。\n",
    "- 循环神经网络的隐状态可以捕获直到当前时间步序列的历史信息。\n",
    "- 循环神经网络模型的参数数量不会随着时间步的增加而增加。\n",
    "- 我们可以使用循环神经网络创建字符级语言模型。\n",
    "- 我们可以使用困惑度来评价语言模型的质量。"
   ]
  }
 ],
 "metadata": {
  "kernelspec": {
   "display_name": "torch",
   "language": "python",
   "name": "python3"
  },
  "language_info": {
   "codemirror_mode": {
    "name": "ipython",
    "version": 3
   },
   "file_extension": ".py",
   "mimetype": "text/x-python",
   "name": "python",
   "nbconvert_exporter": "python",
   "pygments_lexer": "ipython3",
   "version": "3.8.18"
  }
 },
 "nbformat": 4,
 "nbformat_minor": 2
}
